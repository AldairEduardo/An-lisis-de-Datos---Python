{
 "cells": [
  {
   "cell_type": "code",
   "execution_count": 10,
   "metadata": {},
   "outputs": [],
   "source": [
    "import pandas as pd\n",
    "import os"
   ]
  },
  {
   "cell_type": "code",
   "execution_count": 11,
   "metadata": {},
   "outputs": [
    {
     "data": {
      "text/plain": [
       "['lego_1999.csv',\n",
       " 'lego_2000.csv',\n",
       " 'lego_2001.csv',\n",
       " 'lego_2002.csv',\n",
       " 'lego_2003.csv',\n",
       " 'lego_2004.csv',\n",
       " 'lego_2005.csv',\n",
       " 'lego_2006.csv',\n",
       " 'lego_2007.csv',\n",
       " 'lego_2008.csv',\n",
       " 'lego_2009.csv',\n",
       " 'lego_2010.csv',\n",
       " 'lego_2011.csv',\n",
       " 'lego_2012.csv',\n",
       " 'lego_2013.csv',\n",
       " 'lego_2014.csv',\n",
       " 'lego_2015.csv',\n",
       " 'lego_2016.csv',\n",
       " 'lego_2017.csv',\n",
       " 'lego_2018.csv',\n",
       " 'lego_2019.csv',\n",
       " 'lego_2020.csv',\n",
       " 'lego_2021.csv']"
      ]
     },
     "execution_count": 11,
     "metadata": {},
     "output_type": "execute_result"
    }
   ],
   "source": [
    "sorted(os.listdir('./sets-year/'))"
   ]
  },
  {
   "cell_type": "code",
   "execution_count": 12,
   "metadata": {},
   "outputs": [
    {
     "name": "stdout",
     "output_type": "stream",
     "text": [
      "Archivo ../combinar-csv/sets_combinados.csv creado correctamente.\n"
     ]
    }
   ],
   "source": [
    "ruta = './sets-year/' # Ruta de los archivos\n",
    "archivos_combinados = [] # Lista para guardar los archivos combinados\n",
    "\n",
    "\n",
    "for i in sorted(os.listdir(ruta)): # Recorremos los archivos de la carpeta\n",
    "        \n",
    "        if i.endswith('.csv'):\n",
    "            df = pd.read_csv(ruta + i, sep=',', encoding='latin1')\n",
    "            archivos_combinados.append(df)        \n",
    "        \n",
    "df = pd.concat(archivos_combinados) # Concatenamos los archivos\n",
    "\n",
    "\n",
    "salida = '../combinar-csv/sets_combinados.csv' # Ruta de salida\n",
    "df.to_csv(salida, sep=';', index=False)\n",
    "print(f'Archivo {salida} creado correctamente.') # Mensaje de confirmaciónn  "
   ]
  },
  {
   "cell_type": "code",
   "execution_count": 13,
   "metadata": {},
   "outputs": [
    {
     "name": "stdout",
     "output_type": "stream",
     "text": [
      "Proceso finalizado.\n"
     ]
    }
   ],
   "source": [
    "print('Proceso finalizado.') # Mensaje de confirmación final"
   ]
  }
 ],
 "metadata": {
  "kernelspec": {
   "display_name": "base",
   "language": "python",
   "name": "python3"
  },
  "language_info": {
   "codemirror_mode": {
    "name": "ipython",
    "version": 3
   },
   "file_extension": ".py",
   "mimetype": "text/x-python",
   "name": "python",
   "nbconvert_exporter": "python",
   "pygments_lexer": "ipython3",
   "version": "3.11.5"
  }
 },
 "nbformat": 4,
 "nbformat_minor": 2
}
